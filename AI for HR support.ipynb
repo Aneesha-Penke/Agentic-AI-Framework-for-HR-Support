{
 "cells": [
  {
   "cell_type": "code",
   "execution_count": 2,
   "id": "88b5e158-4864-49c2-b1a6-25ad51aaee2c",
   "metadata": {},
   "outputs": [],
   "source": [
    "import os\n",
    "import openai\n",
    "from dotenv import load_dotenv, find_dotenv\n",
    "from langchain_openai import ChatOpenAI\n",
    "from langchain.memory import ConversationBufferMemory\n",
    "from langchain.prompts import PromptTemplate\n",
    "from langchain.document_loaders import TextLoader,PyMuPDFLoader\n",
    "from langchain.text_splitter import RecursiveCharacterTextSplitter\n",
    "from langchain.embeddings import OpenAIEmbeddings\n",
    "from langchain.vectorstores import FAISS\n",
    "from langchain.chains import VectorDBQA,RetrievalQA\n",
    "\n",
    "\n",
    "_ = load_dotenv(find_dotenv())\n",
    "openai.api_key = os.getenv('OPENAI_API_KEY')\n",
    "\n",
    "llm = ChatOpenAI(model='gpt-4')\n",
    "\n",
    "\n"
   ]
  },
  {
   "cell_type": "code",
   "execution_count": null,
   "id": "4713c73d-1ea4-487c-9d7a-b32f36f599c8",
   "metadata": {},
   "outputs": [],
   "source": [
    "### Load the PDF"
   ]
  },
  {
   "cell_type": "code",
   "execution_count": 12,
   "id": "e05c1424-7fc6-4751-9310-098f0d0a348b",
   "metadata": {},
   "outputs": [],
   "source": [
    "loader = PyMuPDFLoader('the_nestle_hr_policy_pdf_2012.pdf')\n",
    "documents=loader.load()"
   ]
  },
  {
   "cell_type": "code",
   "execution_count": null,
   "id": "2f3cedf2-1a68-45df-b4e6-c2e1e1d8e29b",
   "metadata": {},
   "outputs": [],
   "source": [
    "###Create vector representations for text chunks"
   ]
  },
  {
   "cell_type": "code",
   "execution_count": 13,
   "id": "2e1cf5dd-363b-40bb-9404-f3720beee353",
   "metadata": {},
   "outputs": [],
   "source": [
    "text_splitter=RecursiveCharacterTextSplitter(chunk_size=1000,chunk_overlap=0)\n",
    "chunks=text_splitter.split_documents(documents)\n",
    "embeddings=OpenAIEmbeddings()\n",
    "vectorstore=FAISS.from_documents(chunks,embeddings)"
   ]
  },
  {
   "cell_type": "code",
   "execution_count": null,
   "id": "e967d406-097a-45b2-a3ca-a46c2c267f1a",
   "metadata": {},
   "outputs": [],
   "source": [
    "### Build a question-answering system using the GPT-3.5 Turbo model to retrieve answers from text chunks."
   ]
  },
  {
   "cell_type": "code",
   "execution_count": 14,
   "id": "3e90b584-6457-49b3-9b26-5b546057b744",
   "metadata": {},
   "outputs": [],
   "source": [
    "qa=RetrievalQA.from_chain_type(llm = ChatOpenAI(model='gpt-3.5-turbo'),chain_type='stuff', retriever=vectorstore.as_retriever())"
   ]
  },
  {
   "cell_type": "code",
   "execution_count": null,
   "id": "62778abc-c99d-41f1-9ef6-7604d7a54866",
   "metadata": {},
   "outputs": [],
   "source": [
    "### Create a prompt template to guide the chatbot in understanding and responding to users"
   ]
  },
  {
   "cell_type": "code",
   "execution_count": 15,
   "id": "d838857b-debc-487e-bba4-b123ea05f102",
   "metadata": {},
   "outputs": [],
   "source": [
    "template=\"\"\" You are a HR helpful assistant. Read the answer the following questions in english.\n",
    "                Question:{question}\n",
    "                Answer:\n",
    "                \"\"\"\n",
    "prompt=PromptTemplate(input_variables=['question'],template=template)\n"
   ]
  },
  {
   "cell_type": "code",
   "execution_count": 23,
   "id": "e569df15-97cf-4a86-aa3f-da525a9a602e",
   "metadata": {},
   "outputs": [],
   "source": [
    "question = \"How is the working environment in Nestle\"\n",
    "results = vectorstore.similarity_search(question)"
   ]
  },
  {
   "cell_type": "code",
   "execution_count": 24,
   "id": "6d84f2d4-5f61-444a-9799-1ef04d468021",
   "metadata": {},
   "outputs": [
    {
     "data": {
      "text/plain": [
       "'Nestlé on the Move\\n\\t\\nA flexible and dynamic organisation\\n\\nThe Nestlé Human Resources Policy\\n5\\nSince its founding, Nestlé has built a culture \\nbased on values of trust, mutual respect and \\ndialogue. Nestlé management and employees all \\nover the world work daily to create and maintain \\npositive individual and collective relationships, \\nand are expected to do so as a core part of their \\njob.\\nNestlé not only upholds the freedom of \\nassociation of its employees and the effective \\nrecognition of the right to collective bargaining, \\nbut also ensures that direct and frequent \\ncommunication is established in the workplace. \\nWhile dialogue with trade unions is essential, it \\ndoes not replace the close relationship that our \\nmanagement maintains with all employees.\\nIn the spirit of continuous improvement, we \\nencourage two-way dialogue with our employees \\nthat goes beyond the traditional aspects of \\ncollective bargaining in order to share knowledge \\nand to jointly find opportunities related to \\nimportant matters such as Creating Shared Value,\\n\\nPolicy\\nMandatory\\nSeptember\\u2009\\u200a2012\\nThe Nestlé  \\nHuman Resources Policy\\n\\nconditions whenever possible and encourage our \\nemployees to have outside interests especially \\ncommunity involvement. \\nThose with line management responsibilities \\nare required to take personal ownership of safety \\nand health within their area of responsibility and \\nare encouraged to develop their capability in this \\narea.\\nNestlé’s commitment however goes beyond \\nits own employees. We care about all people \\nworking inside or outside our premises under \\ncontractual obligations with service providers \\nand we insist that they also take steps so that \\nadequate working conditions are made available \\nto them.\\nWe believe that it is essential to build a \\nrelationship based on trust and respect of \\nemployees at all levels. We do not tolerate any \\nform of harassment or discrimination.\\nTherefore, managers are committed to build \\nand sustain, with their teams, an environment \\nof mutual trust. HR ensures that a respectful \\ndialogue is present and the voice of the \\nemployees is heard.'"
      ]
     },
     "execution_count": 24,
     "metadata": {},
     "output_type": "execute_result"
    }
   ],
   "source": [
    "context = \"\\n\\n\".join([doc.page_content for doc in results])\n",
    "context "
   ]
  },
  {
   "cell_type": "code",
   "execution_count": 25,
   "id": "c11244fa-35f4-478f-8e3c-f3a343225b5e",
   "metadata": {},
   "outputs": [
    {
     "data": {
      "text/plain": [
       "'further enables managers to acknowledge high \\nperformance and reward employees accordingly, \\nwhile ensuring low performance is properly \\nmanaged with integrity.\\nEmployees receive regular feedback on their \\nperformance and career aspirations through \\na variety of tools and processes such as the \\nPerformance Evaluation process (PE), the  \\nProgress and Development Guide (PDG) and  \\n360° assessments. Each manager dedicates the \\nnecessary time to the monitoring of objectives and \\nregular coaching of employees through the year. \\nEach employee, supported by the line manager, \\nis in charge of her or his own professional \\ndevelopment, whereby the employee is \\nencouraged to express career objectives and \\nexpectations in an open dialogue. We aim to retain \\nand motivate employees by offering attractive but \\nrealistic career moves allowing them to develop \\ntheir skills in the long-term.\\nGiven the importance Nestlé puts on cultural \\ndiversity, employees who are interested in inter-\\n\\nThe Nestlé Human Resources Policy\\n3\\n\\t\\nTotal rewards\\nAttracting new hires and keeping current \\nemployees engaged is not only about \\nremuneration and benefits based on solid \\nperformance. It is also about the hard earned \\nvalue and trust that our name brings to those \\nwho work with us; the relationships with our line \\nmanagers and fellow workers; recognition and \\nexperiences enjoyed while working for a diverse \\nglobal company; and possibilities to learn and \\ngrow. These are as a whole, the Total Rewards we \\nreceive.\\nNestlé, therefore, focuses on Fixed Pay, \\nVariable Pay, Benefits, Personal Growth and \\nDevelopment and Work Life Environment as the \\nkey elements that define Total Rewards. In the \\nspirit of developing a high performance culture, \\nthose elements need to correspond to what is \\nvalued by employees in each and every market, \\nand which demonstrate how Nestlé is committed \\nto giving each employee the opportunity to grow, \\nevolve and contribute.\\n\\nNestlé Total Rewards programmes must be \\nestablished within the social and legal framework \\nof each country, and with respect to applicable \\ncollective agreements. \\nIt is the responsibility of each manager to \\npropose the remuneration of their employees \\nwithin the framework of Company policy. \\nSufficient time should be spent with each \\nemployee to explain her or his specific situation \\nin terms of remuneration and benefits, if needed \\nwith the support of HR management, in order to \\ncommunicate properly, clearly and with sufficient \\ntransparency.\\nCorporate policy: \\nNestlé Total Rewards Policy\\nWe are committed to providing our employees all \\nover the world with good working conditions, a \\nsafe and healthy work environment, and flexible \\nemployment possibilities that support a better \\nbalance of private and professional life consistent \\nwith our ambition as a leading Nutrition, Health \\nand Wellness Company.\\nAs such, we provide flexible working\\n\\neveryone’s learning and growth. Attending \\na programme should never be considered \\nas a reward but as a component of on-going \\ndevelopment.\\nAdditionally, corporate leadership programmes \\nhelp us develop and retain the best-qualified \\nmanagement. Leaders have the opportunity \\nto attend either international training courses \\nat Rive-Reine, which build integrated business \\nunderstanding and solidify and reinforce Nestlé \\nvalues and principles, or programmes conducted \\nby our strategic learning partners. \\n\\t\\nTraining and learning\\nAt Nestlé, a high performance culture supported by  \\ndifferentiated rewards and development is key to \\nthe delivery of individual and business objectives.  \\nThis is driven by the alignment of clear and chal- \\nlenging responsibilities and ensuring that employ-\\nees are aware of how their work impacts Nestlé.\\nThe line manager and employee work together \\nto ensure that challenging objectives are set and  \\neffectively evaluated throughout the year. This'"
      ]
     },
     "execution_count": 25,
     "metadata": {},
     "output_type": "execute_result"
    }
   ],
   "source": [
    "question = \"What is the reward for exceeding preformance \"\n",
    "results = vectorstore.similarity_search(question)\n",
    "context = \"\\n\\n\".join([doc.page_content for doc in results])\n",
    "context "
   ]
  },
  {
   "cell_type": "code",
   "execution_count": 26,
   "id": "4e1dd542-c632-490d-8701-8a4fe9c77c3c",
   "metadata": {},
   "outputs": [
    {
     "data": {
      "text/plain": [
       "'Corporate policy: \\nPolicy on Conditions of Work and Employment\\n\\t\\nEmployment and working conditions\\n\\nPolicy\\nMandatory\\nSeptember\\u2009\\u200a2012\\nThe Nestlé  \\nHuman Resources Policy\\n\\nnecessary for the continued development of \\npeople and the Company.\\nCorporate policy: \\nExpatriation Policy\\n\\t\\nTalent, development  \\n\\t\\nand performance management\\n\\nThe Nestlé Human Resources Policy\\n5\\nSince its founding, Nestlé has built a culture \\nbased on values of trust, mutual respect and \\ndialogue. Nestlé management and employees all \\nover the world work daily to create and maintain \\npositive individual and collective relationships, \\nand are expected to do so as a core part of their \\njob.\\nNestlé not only upholds the freedom of \\nassociation of its employees and the effective \\nrecognition of the right to collective bargaining, \\nbut also ensures that direct and frequent \\ncommunication is established in the workplace. \\nWhile dialogue with trade unions is essential, it \\ndoes not replace the close relationship that our \\nmanagement maintains with all employees.\\nIn the spirit of continuous improvement, we \\nencourage two-way dialogue with our employees \\nthat goes beyond the traditional aspects of \\ncollective bargaining in order to share knowledge \\nand to jointly find opportunities related to \\nimportant matters such as Creating Shared Value,'"
      ]
     },
     "execution_count": 26,
     "metadata": {},
     "output_type": "execute_result"
    }
   ],
   "source": [
    "question = \"What is the leave policy \"\n",
    "results = vectorstore.similarity_search(question)\n",
    "context = \"\\n\\n\".join([doc.page_content for doc in results])\n",
    "context "
   ]
  },
  {
   "cell_type": "code",
   "execution_count": 29,
   "id": "a3e8a603-630f-4bb4-a348-16c0607f1145",
   "metadata": {},
   "outputs": [
    {
     "name": "stderr",
     "output_type": "stream",
     "text": [
      "/tmp/ipykernel_95/440179681.py:1: LangChainDeprecationWarning: Please see the migration guide at: https://python.langchain.com/docs/versions/migrating_memory/\n",
      "  memory = ConversationBufferMemory(\n"
     ]
    }
   ],
   "source": [
    "memory = ConversationBufferMemory(\n",
    "    memory_key = 'chat_history',\n",
    "    input_key='question')\n",
    "prompt = PromptTemplate.from_template(\"\"\"\n",
    "\n",
    "Chat History : {chat_history}\n",
    "\n",
    "Context : {context}\n",
    "\n",
    "Question : {question}\n",
    "\n",
    "Answer : \n",
    "\n",
    "\"\"\")"
   ]
  },
  {
   "cell_type": "code",
   "execution_count": 31,
   "id": "30db1d43-33ac-44b0-b6ca-f742a671ddd2",
   "metadata": {},
   "outputs": [],
   "source": [
    "retriever = vectorstore.as_retriever()"
   ]
  },
  {
   "cell_type": "code",
   "execution_count": 32,
   "id": "dd19bacd-90cc-4bef-97d6-ef1df66486f0",
   "metadata": {},
   "outputs": [],
   "source": [
    "rag_chain = RetrievalQA.from_chain_type(\n",
    "    llm = llm,\n",
    "    retriever = retriever,\n",
    "    chain_type_kwargs={\n",
    "        \"prompt\" : prompt,\n",
    "        \"memory\" : memory\n",
    "    }\n",
    ")"
   ]
  },
  {
   "cell_type": "code",
   "execution_count": 33,
   "id": "77d67242-8e31-4813-a36e-a034f908a6c7",
   "metadata": {},
   "outputs": [
    {
     "data": {
      "text/plain": [
       "{'query': 'What are the working conditions',\n",
       " 'result': 'Nestlé emphasizes on safety and health within working areas, along with ensuring a respectful and trusting relationship among all employees. They do not tolerate any form of harassment or discrimination. The company also insists on adequate working conditions for all people working under contractual obligations with service providers. Additionally, Nestlé strives to attract and retain employees by focusing on Total Rewards, which include fixed pay, variable pay, benefits, personal growth, development, and a balanced work-life environment. The company also encourages its employees to have outside interests, especially community involvement.'}"
      ]
     },
     "execution_count": 33,
     "metadata": {},
     "output_type": "execute_result"
    }
   ],
   "source": [
    "response = rag_chain.invoke(\"What are the working conditions\")\n",
    "response"
   ]
  },
  {
   "cell_type": "code",
   "execution_count": 34,
   "id": "9f82b214-1c28-48ee-9db8-b58bd48ea143",
   "metadata": {},
   "outputs": [
    {
     "data": {
      "text/plain": [
       "{'query': 'How can i work to make those much better',\n",
       " 'result': \"To improve the working conditions at a company like Nestlé, one could focus on a variety of strategies:\\n\\n1. Constant Feedback: Encourage a culture of open and honest communication. Implement systems to regularly check in with employees about their working conditions and satisfaction, and respond proactively to their suggestions and concerns.\\n\\n2. Enhance Employee Professional Development: Put an emphasis on training and development programs to help employees grow professionally. This can be achieved by investing in relevant training workshops and courses, fostering an environment of constant learning, and encouraging employees to pursue certifications or advanced degrees in their fields.\\n\\n3. Work-Life Balance: Prioritize work-life balance by ensuring employees aren't overworked, enabling flexible work schedules where possible, and encouraging employees to take time off for their well-being.\\n\\n4. Encourage Diversity and Inclusion: Develop strategies to promote diversity and inclusion in the workplace. This can involve recruiting employees from diverse backgrounds, promoting inclusive policies, and challenging any discriminatory behaviour.\\n\\n5. Career Progression: Create clear pathways for career progression within the company to motivate employees. This includes developing a robust internal job posting system, planning succession, offering promotions based on merit, and providing support for role transitions.\\n\\n6. Better Reward Systems: Recognize and reward employees for good performance. This can be done through monetary bonuses, promotions, special recognitions, or other incentives.\\n\\nRemember that improvement is a continuous process, so it's important to regularly reassess the working conditions and make changes as needed.\"}"
      ]
     },
     "execution_count": 34,
     "metadata": {},
     "output_type": "execute_result"
    }
   ],
   "source": [
    "response = rag_chain.invoke(\"How can i work to make those much better\")\n",
    "response"
   ]
  },
  {
   "cell_type": "code",
   "execution_count": null,
   "id": "e5af9cd5-76d0-43de-a599-62eb161ecd49",
   "metadata": {},
   "outputs": [],
   "source": []
  }
 ],
 "metadata": {
  "kernelspec": {
   "display_name": "Python 3 [3.10]",
   "language": "python",
   "name": "python3"
  },
  "language_info": {
   "codemirror_mode": {
    "name": "ipython",
    "version": 3
   },
   "file_extension": ".py",
   "mimetype": "text/x-python",
   "name": "python",
   "nbconvert_exporter": "python",
   "pygments_lexer": "ipython3",
   "version": "3.10.2"
  }
 },
 "nbformat": 4,
 "nbformat_minor": 5
}
